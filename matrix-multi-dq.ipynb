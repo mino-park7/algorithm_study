{
 "cells": [
  {
   "cell_type": "code",
   "execution_count": 2,
   "metadata": {},
   "outputs": [],
   "source": [
    "import numpy as np\n"
   ]
  },
  {
   "cell_type": "code",
   "execution_count": 26,
   "metadata": {},
   "outputs": [],
   "source": [
    "arr = np.array([[1,2,3,4],\n",
    "                 [5,6,7,8],\n",
    "                 [9,10,11,12],\n",
    "                 [13,14,15,16]])\n",
    "arr = arr/32"
   ]
  },
  {
   "cell_type": "code",
   "execution_count": 27,
   "metadata": {},
   "outputs": [
    {
     "data": {
      "text/plain": [
       "array([[0.03125, 0.0625 , 0.09375, 0.125  ],\n",
       "       [0.15625, 0.1875 , 0.21875, 0.25   ],\n",
       "       [0.28125, 0.3125 , 0.34375, 0.375  ],\n",
       "       [0.40625, 0.4375 , 0.46875, 0.5    ]])"
      ]
     },
     "execution_count": 27,
     "metadata": {},
     "output_type": "execute_result"
    }
   ],
   "source": [
    "arr"
   ]
  },
  {
   "cell_type": "code",
   "execution_count": 28,
   "metadata": {},
   "outputs": [
    {
     "data": {
      "text/plain": [
       "4"
      ]
     },
     "execution_count": 28,
     "metadata": {},
     "output_type": "execute_result"
    }
   ],
   "source": [
    "len(arr)"
   ]
  },
  {
   "cell_type": "code",
   "execution_count": 29,
   "metadata": {},
   "outputs": [],
   "source": [
    "def pow(matrix, m) -> np.array:\n",
    "    if m == 0 :\n",
    "        return np.identity(len(arr))\n",
    "    if m % 2 > 0:\n",
    "        return np.matmul(pow(matrix, m-1),matrix)\n",
    "    half = pow(matrix, m/2)\n",
    "    return np.matmul(half,half)"
   ]
  },
  {
   "cell_type": "code",
   "execution_count": 30,
   "metadata": {},
   "outputs": [
    {
     "data": {
      "text/plain": [
       "array([[3.10766198e+52, 3.51914513e+52, 3.93062828e+52, 4.34211143e+52],\n",
       "       [7.18015552e+52, 8.13087444e+52, 9.08159336e+52, 1.00323123e+53],\n",
       "       [1.12526491e+53, 1.27426038e+53, 1.42325584e+53, 1.57225131e+53],\n",
       "       [1.53251426e+53, 1.73543331e+53, 1.93835235e+53, 2.14127140e+53]])"
      ]
     },
     "execution_count": 30,
     "metadata": {},
     "output_type": "execute_result"
    }
   ],
   "source": [
    "pow(arr, 1000)"
   ]
  },
  {
   "cell_type": "code",
   "execution_count": null,
   "metadata": {},
   "outputs": [],
   "source": []
  }
 ],
 "metadata": {
  "kernelspec": {
   "display_name": "Python 3",
   "language": "python",
   "name": "python3"
  },
  "language_info": {
   "codemirror_mode": {
    "name": "ipython",
    "version": 3
   },
   "file_extension": ".py",
   "mimetype": "text/x-python",
   "name": "python",
   "nbconvert_exporter": "python",
   "pygments_lexer": "ipython3",
   "version": "3.6.10"
  }
 },
 "nbformat": 4,
 "nbformat_minor": 4
}
