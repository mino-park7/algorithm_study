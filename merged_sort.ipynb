{
 "cells": [
  {
   "cell_type": "code",
   "execution_count": 1,
   "metadata": {},
   "outputs": [],
   "source": [
    "list1 = [1,65,34,67,4,34,26,123,6,2,3,4]"
   ]
  },
  {
   "cell_type": "code",
   "execution_count": null,
   "metadata": {},
   "outputs": [],
   "source": []
  },
  {
   "cell_type": "code",
   "execution_count": 5,
   "metadata": {},
   "outputs": [],
   "source": [
    "def merge_sort(num_list):\n",
    "    if len(num_list) == 1:\n",
    "        return num_list\n",
    "    mid = len(num_list)//2\n",
    "    left_list = num_list[:mid]\n",
    "    right_list = num_list[mid:]\n",
    "    left_list = merge_sort(left_list)\n",
    "    right_list = merge_sort(right_list)\n",
    "    return merge(left_list, right_list)\n",
    "\n",
    "def merge(left_list, right_list):\n",
    "    result=[]\n",
    "    while len(left_list) > 0 or len(right_list) > 0:\n",
    "        if len(left_list) > 0 and len(right_list) > 0:\n",
    "            if left_list[0] <= right_list[0]:\n",
    "                result.append(left_list[0])\n",
    "                left_list=left_list[1:]\n",
    "            else:\n",
    "                result.append(right_list[0])\n",
    "                right_list=right_list[1:]\n",
    "        elif len(left_list) > 0:\n",
    "            result.append(left_list[0])\n",
    "            left_list = left_list[1:]\n",
    "        elif len(right_list) > 0:\n",
    "            result.append(right_list[0])\n",
    "            right_list = right_list[1:]\n",
    "    return result\n",
    "\n",
    "    "
   ]
  },
  {
   "cell_type": "code",
   "execution_count": 6,
   "metadata": {},
   "outputs": [],
   "source": [
    "merged_list = merge_sort(list1)"
   ]
  },
  {
   "cell_type": "code",
   "execution_count": 7,
   "metadata": {},
   "outputs": [
    {
     "data": {
      "text/plain": [
       "[1, 2, 3, 4, 4, 6, 26, 34, 34, 65, 67, 123]"
      ]
     },
     "execution_count": 7,
     "metadata": {},
     "output_type": "execute_result"
    }
   ],
   "source": [
    "merged_list"
   ]
  },
  {
   "cell_type": "code",
   "execution_count": null,
   "metadata": {},
   "outputs": [],
   "source": []
  }
 ],
 "metadata": {
  "kernelspec": {
   "display_name": "Python 3",
   "language": "python",
   "name": "python3"
  },
  "language_info": {
   "codemirror_mode": {
    "name": "ipython",
    "version": 3
   },
   "file_extension": ".py",
   "mimetype": "text/x-python",
   "name": "python",
   "nbconvert_exporter": "python",
   "pygments_lexer": "ipython3",
   "version": "3.6.10"
  }
 },
 "nbformat": 4,
 "nbformat_minor": 4
}
