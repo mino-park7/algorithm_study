{
 "cells": [
  {
   "cell_type": "code",
   "execution_count": 4,
   "metadata": {},
   "outputs": [],
   "source": [
    "#__cache={}\n",
    "def memoization(func):\n",
    "    __cache ={}\n",
    "    #print(__cache)\n",
    "    def wrapper(*args):\n",
    "        if args in __cache:\n",
    "            return __cache[args]\n",
    "        else:\n",
    "            result = func(*args)\n",
    "            __cache.update({args: result})\n",
    "            #print(__cache)\n",
    "            return result\n",
    "        \n",
    "    return wrapper\n",
    "\n",
    "#@memoization\n",
    "def bino(a,b):\n",
    "    if a==b:\n",
    "        return 1\n",
    "    if b > a :\n",
    "        return -1\n",
    "    if a== 1:\n",
    "        return 1\n",
    "    if b == 0:\n",
    "        return 1\n",
    "    #print(a,b)\n",
    "    return bino(a-1,b) + bino(a-1, b-1)"
   ]
  },
  {
   "cell_type": "code",
   "execution_count": null,
   "metadata": {},
   "outputs": [],
   "source": [
    "print(bino(100,50))"
   ]
  },
  {
   "cell_type": "code",
   "execution_count": 2,
   "metadata": {},
   "outputs": [],
   "source": [
    "def find_around(y, x):\n",
    "    '''\n",
    "    Args:\n",
    "        y (int) : y 좌표\n",
    "        x (int) : x 좌표\n",
    "    Returns:\n",
    "        next_position ((int, int) list) : (y,x)좌표 리스트\n",
    "    '''\n",
    "    dx = [-1,0,1,0]\n",
    "    dy = [0,1,0,-1]\n",
    "    \n",
    "    for i in range(4):\n",
    "        yield (y+dy[i], x+dx[i])"
   ]
  },
  {
   "cell_type": "code",
   "execution_count": 3,
   "metadata": {},
   "outputs": [],
   "source": [
    "a = find_around(0,0)"
   ]
  },
  {
   "cell_type": "code",
   "execution_count": 8,
   "metadata": {},
   "outputs": [
    {
     "ename": "StopIteration",
     "evalue": "",
     "output_type": "error",
     "traceback": [
      "\u001b[0;31m---------------------------------------------------------------------------\u001b[0m",
      "\u001b[0;31mStopIteration\u001b[0m                             Traceback (most recent call last)",
      "\u001b[0;32m<ipython-input-8-15841f3f11d4>\u001b[0m in \u001b[0;36m<module>\u001b[0;34m\u001b[0m\n\u001b[0;32m----> 1\u001b[0;31m \u001b[0mnext\u001b[0m\u001b[0;34m(\u001b[0m\u001b[0ma\u001b[0m\u001b[0;34m)\u001b[0m\u001b[0;34m\u001b[0m\u001b[0;34m\u001b[0m\u001b[0m\n\u001b[0m",
      "\u001b[0;31mStopIteration\u001b[0m: "
     ]
    }
   ],
   "source": [
    "next(a)"
   ]
  },
  {
   "cell_type": "code",
   "execution_count": 20,
   "metadata": {},
   "outputs": [],
   "source": [
    "init_state = {(0, 0): [-3, 3], (0, 1): [-2, 2], (0, 3): [-3, 3], (1, 1): [-3, 3], (3, 2): [-1, 1], (4, 4): [-2, 2]}"
   ]
  },
  {
   "cell_type": "code",
   "execution_count": 21,
   "metadata": {},
   "outputs": [
    {
     "data": {
      "text/plain": [
       "[-3, 3]"
      ]
     },
     "execution_count": 21,
     "metadata": {},
     "output_type": "execute_result"
    }
   ],
   "source": [
    "init_state[(0,0)]"
   ]
  },
  {
   "cell_type": "code",
   "execution_count": 26,
   "metadata": {},
   "outputs": [
    {
     "name": "stdout",
     "output_type": "stream",
     "text": [
      "(0, -1)\n",
      "(1, 0)\n",
      "(0, 1)\n",
      "(-1, 0)\n",
      "(0, 0)\n",
      "(1, 1)\n",
      "(0, 2)\n",
      "(-1, 1)\n",
      "(0, 2)\n",
      "(1, 3)\n",
      "(0, 4)\n",
      "(-1, 3)\n",
      "(1, 0)\n",
      "(2, 1)\n",
      "(1, 2)\n",
      "(0, 1)\n",
      "(3, 1)\n",
      "(4, 2)\n",
      "(3, 3)\n",
      "(2, 2)\n",
      "(4, 3)\n",
      "(5, 4)\n",
      "(4, 5)\n",
      "(3, 4)\n"
     ]
    }
   ],
   "source": [
    "for i in init_state:\n",
    "    for j in find_around(*i):\n",
    "        print(j)"
   ]
  },
  {
   "cell_type": "code",
   "execution_count": 27,
   "metadata": {},
   "outputs": [],
   "source": [
    "init_state[(0,0)][0] += 1"
   ]
  },
  {
   "cell_type": "code",
   "execution_count": 28,
   "metadata": {},
   "outputs": [
    {
     "data": {
      "text/plain": [
       "{(0, 0): [-2, 3],\n",
       " (0, 1): [-2, 2],\n",
       " (0, 3): [-3, 3],\n",
       " (1, 1): [-3, 3],\n",
       " (3, 2): [-1, 1],\n",
       " (4, 4): [-2, 2]}"
      ]
     },
     "execution_count": 28,
     "metadata": {},
     "output_type": "execute_result"
    }
   ],
   "source": [
    "init_state"
   ]
  },
  {
   "cell_type": "code",
   "execution_count": 29,
   "metadata": {},
   "outputs": [
    {
     "data": {
      "text/plain": [
       "True"
      ]
     },
     "execution_count": 29,
     "metadata": {},
     "output_type": "execute_result"
    }
   ],
   "source": [
    "False < 1"
   ]
  },
  {
   "cell_type": "code",
   "execution_count": 31,
   "metadata": {},
   "outputs": [
    {
     "ename": "KeyError",
     "evalue": "(-100, 0)",
     "output_type": "error",
     "traceback": [
      "\u001b[0;31m---------------------------------------------------------------------------\u001b[0m",
      "\u001b[0;31mKeyError\u001b[0m                                  Traceback (most recent call last)",
      "\u001b[0;32m<ipython-input-31-d22e590a7428>\u001b[0m in \u001b[0;36m<module>\u001b[0;34m\u001b[0m\n\u001b[0;32m----> 1\u001b[0;31m \u001b[0minit_state\u001b[0m\u001b[0;34m[\u001b[0m\u001b[0;34m(\u001b[0m\u001b[0;34m-\u001b[0m\u001b[0;36m100\u001b[0m\u001b[0;34m,\u001b[0m\u001b[0;36m0\u001b[0m\u001b[0;34m)\u001b[0m\u001b[0;34m]\u001b[0m \u001b[0;34m<\u001b[0m \u001b[0;36m1\u001b[0m\u001b[0;34m\u001b[0m\u001b[0;34m\u001b[0m\u001b[0m\n\u001b[0m",
      "\u001b[0;31mKeyError\u001b[0m: (-100, 0)"
     ]
    }
   ],
   "source": [
    "init_state[(-100,0)] < 1"
   ]
  },
  {
   "cell_type": "code",
   "execution_count": 32,
   "metadata": {},
   "outputs": [],
   "source": [
    "init_state.update({(-100,0):[-2,2]})"
   ]
  },
  {
   "cell_type": "code",
   "execution_count": 34,
   "metadata": {},
   "outputs": [
    {
     "data": {
      "text/plain": [
       "True"
      ]
     },
     "execution_count": 34,
     "metadata": {},
     "output_type": "execute_result"
    }
   ],
   "source": [
    "(-101,0) not in init_state"
   ]
  },
  {
   "cell_type": "code",
   "execution_count": 35,
   "metadata": {},
   "outputs": [
    {
     "data": {
      "text/plain": [
       "dict_values([[-2, 3], [-2, 2], [-3, 3], [-3, 3], [-1, 1], [-2, 2], [-2, 2]])"
      ]
     },
     "execution_count": 35,
     "metadata": {},
     "output_type": "execute_result"
    }
   ],
   "source": [
    "init_state.values()"
   ]
  },
  {
   "cell_type": "code",
   "execution_count": 36,
   "metadata": {},
   "outputs": [],
   "source": [
    "del init_state[(-100,0)]"
   ]
  },
  {
   "cell_type": "code",
   "execution_count": 39,
   "metadata": {},
   "outputs": [
    {
     "data": {
      "text/plain": [
       "{(0, 0): [-3, 3],\n",
       " (0, 1): [-2, 2],\n",
       " (0, 3): [-3, 3],\n",
       " (1, 1): [-3, 3],\n",
       " (3, 2): [-1, 1],\n",
       " (4, 4): [-2, 2]}"
      ]
     },
     "execution_count": 39,
     "metadata": {},
     "output_type": "execute_result"
    }
   ],
   "source": [
    "init_state"
   ]
  },
  {
   "cell_type": "code",
   "execution_count": 38,
   "metadata": {},
   "outputs": [],
   "source": [
    "init_state[(0,0)]=[-3,3]"
   ]
  },
  {
   "cell_type": "code",
   "execution_count": 45,
   "metadata": {},
   "outputs": [],
   "source": [
    "def cell_update(current_state):\n",
    "    '''\n",
    "    Args:\n",
    "        current_state (Dictionary): 현재 상태의 줄기세포 배양 state\n",
    "    Returns:\n",
    "        next_state (Dictionary) : 다음 상태의 줄기세포 배양 state, Dictionary\n",
    "    '''\n",
    "    next_state = current_state.copy()\n",
    "    #print(1)\n",
    "    for position in current_state:\n",
    "        if current_state[position][0] == 0:\n",
    "            '''\n",
    "            활성화 시 세포 증식 알고리즘 구현 필요\n",
    "            '''\n",
    "            #print(2)\n",
    "            for next_position in find_around(*position):\n",
    "                if next_position not in next_state:\n",
    "                    next_state[next_position]=[-current_state[position][1],current_state[position][1]]\n",
    "                else:    \n",
    "                    if next_state[next_position][1] < current_state[position][1] and next_state[next_position][0] == -next_state[next_position][1]:\n",
    "                        next_state[next_position]=[-current_state[position][1],current_state[position][1]]\n",
    "    \n",
    "        if current_state[position][0] < current_state[position][1]:\n",
    "            #print(3)\n",
    "            \n",
    "            next_state[position][0] += 1\n",
    "            #print(next_state)\n",
    "            #print(4)\n",
    "        \n",
    "        #next_state[position]=current_state[position]\n",
    "        '''\n",
    "        for position in next_state:\n",
    "            if next_state[position][0] == next_state[position][1]:\n",
    "                print(next_state)\n",
    "                next_state.pop(position)\n",
    "        '''\n",
    "    return next_state\n",
    "    \n",
    "    \n",
    "def find_around(y, x):\n",
    "    '''\n",
    "    Args:\n",
    "        y (int) : y 좌표\n",
    "        x (int) : x 좌표\n",
    "    Returns:\n",
    "        next_position ((int, int) generator) : (y,x)좌표 리스트\n",
    "    '''\n",
    "    dx = [-1,0,1,0]\n",
    "    dy = [0,1,0,-1]\n",
    "    result = []\n",
    "    for i in range(4):\n",
    "        yield (y+dy[i], x+dx[i])"
   ]
  },
  {
   "cell_type": "code",
   "execution_count": 46,
   "metadata": {},
   "outputs": [
    {
     "ename": "NameError",
     "evalue": "name 'test_case' is not defined",
     "output_type": "error",
     "traceback": [
      "\u001b[0;31m---------------------------------------------------------------------------\u001b[0m",
      "\u001b[0;31mNameError\u001b[0m                                 Traceback (most recent call last)",
      "\u001b[0;32m<ipython-input-46-f8bb87c7d600>\u001b[0m in \u001b[0;36m<module>\u001b[0;34m\u001b[0m\n\u001b[1;32m      6\u001b[0m     \u001b[0;32mif\u001b[0m \u001b[0mstep\u001b[0m\u001b[0;34m<\u001b[0m\u001b[0mlife\u001b[0m\u001b[0;34m:\u001b[0m\u001b[0;34m\u001b[0m\u001b[0;34m\u001b[0m\u001b[0m\n\u001b[1;32m      7\u001b[0m         \u001b[0mresult\u001b[0m \u001b[0;34m+=\u001b[0m\u001b[0;36m1\u001b[0m\u001b[0;34m\u001b[0m\u001b[0;34m\u001b[0m\u001b[0m\n\u001b[0;32m----> 8\u001b[0;31m \u001b[0mprint\u001b[0m\u001b[0;34m(\u001b[0m\u001b[0;34m'#%i %i'\u001b[0m\u001b[0;34m%\u001b[0m\u001b[0;34m(\u001b[0m\u001b[0mtest_case\u001b[0m\u001b[0;34m,\u001b[0m\u001b[0mresult\u001b[0m\u001b[0;34m)\u001b[0m\u001b[0;34m)\u001b[0m\u001b[0;34m\u001b[0m\u001b[0;34m\u001b[0m\u001b[0m\n\u001b[0m",
      "\u001b[0;31mNameError\u001b[0m: name 'test_case' is not defined"
     ]
    }
   ],
   "source": [
    "state = {(0, 0): [-3, 3], (0, 1): [-2, 2], (0, 3): [-3, 3], (1, 1): [-3, 3], (3, 2): [-1, 1], (4, 4): [-2, 2]}\n",
    "for _ in range(10):\n",
    "    state = cell_update(state)\n",
    "result = 0\n",
    "for step, life in state.values():\n",
    "    if step<life:\n",
    "        result +=1\n",
    "print('#%i %i'%(test_case,result))"
   ]
  },
  {
   "cell_type": "code",
   "execution_count": 47,
   "metadata": {},
   "outputs": [],
   "source": [
    "a= state.pop((0,0))"
   ]
  },
  {
   "cell_type": "code",
   "execution_count": 48,
   "metadata": {},
   "outputs": [
    {
     "data": {
      "text/plain": [
       "[3, 3]"
      ]
     },
     "execution_count": 48,
     "metadata": {},
     "output_type": "execute_result"
    }
   ],
   "source": [
    "a"
   ]
  },
  {
   "cell_type": "code",
   "execution_count": 49,
   "metadata": {},
   "outputs": [
    {
     "data": {
      "text/plain": [
       "{(0, 1): [2, 2],\n",
       " (0, 3): [3, 3],\n",
       " (1, 1): [3, 3],\n",
       " (3, 2): [1, 1],\n",
       " (4, 4): [2, 2],\n",
       " (3, 1): [1, 1],\n",
       " (4, 2): [1, 1],\n",
       " (3, 3): [1, 1],\n",
       " (2, 2): [1, 1],\n",
       " (0, 2): [3, 3],\n",
       " (-1, 1): [2, 2],\n",
       " (4, 3): [2, 2],\n",
       " (5, 4): [2, 2],\n",
       " (4, 5): [2, 2],\n",
       " (3, 4): [2, 2],\n",
       " (0, -1): [3, 3],\n",
       " (1, 0): [3, 3],\n",
       " (-1, 0): [3, 3],\n",
       " (1, 3): [3, 3],\n",
       " (0, 4): [3, 3],\n",
       " (-1, 3): [3, 3],\n",
       " (2, 1): [3, 3],\n",
       " (1, 2): [3, 3],\n",
       " (3, 0): [1, 1],\n",
       " (4, 1): [1, 1],\n",
       " (5, 2): [1, 1],\n",
       " (2, 3): [1, 1],\n",
       " (-1, 2): [1, 3],\n",
       " (-2, 1): [2, 2],\n",
       " (5, 3): [2, 2],\n",
       " (6, 4): [2, 2],\n",
       " (5, 5): [2, 2],\n",
       " (4, 6): [2, 2],\n",
       " (3, 5): [2, 2],\n",
       " (2, 4): [2, 2],\n",
       " (3, -1): [1, 1],\n",
       " (4, 0): [1, 1],\n",
       " (2, 0): [1, 1],\n",
       " (5, 1): [1, 1],\n",
       " (6, 2): [1, 1],\n",
       " (0, -2): [-1, 3],\n",
       " (1, -1): [-1, 3],\n",
       " (-1, -1): [-1, 3],\n",
       " (-2, 0): [-1, 3],\n",
       " (1, 4): [-1, 3],\n",
       " (0, 5): [-1, 3],\n",
       " (-1, 4): [-1, 3],\n",
       " (-2, 3): [-1, 3],\n",
       " (3, -2): [1, 1],\n",
       " (4, -1): [1, 1],\n",
       " (2, -1): [1, 1],\n",
       " (5, 0): [1, 1],\n",
       " (6, 1): [1, 1],\n",
       " (7, 2): [1, 1],\n",
       " (6, 3): [0, 2],\n",
       " (-2, 2): [-2, 3],\n",
       " (-3, 1): [-1, 2],\n",
       " (7, 4): [-1, 2],\n",
       " (6, 5): [-1, 2],\n",
       " (5, 6): [-1, 2],\n",
       " (4, 7): [-1, 2],\n",
       " (3, 6): [-1, 2],\n",
       " (2, 5): [-1, 2],\n",
       " (3, -3): [-1, 1],\n",
       " (4, -2): [-1, 1],\n",
       " (2, -2): [-1, 1],\n",
       " (5, -1): [-1, 1],\n",
       " (6, 0): [-1, 1],\n",
       " (7, 1): [-1, 1],\n",
       " (8, 2): [-1, 1],\n",
       " (7, 3): [-1, 1]}"
      ]
     },
     "execution_count": 49,
     "metadata": {},
     "output_type": "execute_result"
    }
   ],
   "source": [
    "state"
   ]
  },
  {
   "cell_type": "code",
   "execution_count": 50,
   "metadata": {},
   "outputs": [
    {
     "ename": "KeyError",
     "evalue": "(0, 0)",
     "output_type": "error",
     "traceback": [
      "\u001b[0;31m---------------------------------------------------------------------------\u001b[0m",
      "\u001b[0;31mKeyError\u001b[0m                                  Traceback (most recent call last)",
      "\u001b[0;32m<ipython-input-50-550071a4322a>\u001b[0m in \u001b[0;36m<module>\u001b[0;34m\u001b[0m\n\u001b[0;32m----> 1\u001b[0;31m \u001b[0mstate\u001b[0m\u001b[0;34m[\u001b[0m\u001b[0;34m(\u001b[0m\u001b[0;36m0\u001b[0m\u001b[0;34m,\u001b[0m\u001b[0;36m0\u001b[0m\u001b[0;34m)\u001b[0m\u001b[0;34m]\u001b[0m\u001b[0;34m\u001b[0m\u001b[0;34m\u001b[0m\u001b[0m\n\u001b[0m",
      "\u001b[0;31mKeyError\u001b[0m: (0, 0)"
     ]
    }
   ],
   "source": [
    "state[(0,0)]"
   ]
  },
  {
   "cell_type": "code",
   "execution_count": 51,
   "metadata": {},
   "outputs": [],
   "source": [
    "active = ['dummy'] + [[] for _ in range(10)]"
   ]
  },
  {
   "cell_type": "code",
   "execution_count": 52,
   "metadata": {},
   "outputs": [
    {
     "data": {
      "text/plain": [
       "['dummy', [], [], [], [], [], [], [], [], [], []]"
      ]
     },
     "execution_count": 52,
     "metadata": {},
     "output_type": "execute_result"
    }
   ],
   "source": [
    "active"
   ]
  },
  {
   "cell_type": "code",
   "execution_count": 6,
   "metadata": {},
   "outputs": [],
   "source": [
    "a = int('1DB176C588D26EC',16)"
   ]
  },
  {
   "cell_type": "code",
   "execution_count": 7,
   "metadata": {},
   "outputs": [
    {
     "data": {
      "text/plain": [
       "133726368047113964"
      ]
     },
     "execution_count": 7,
     "metadata": {},
     "output_type": "execute_result"
    }
   ],
   "source": [
    "a"
   ]
  },
  {
   "cell_type": "code",
   "execution_count": 8,
   "metadata": {},
   "outputs": [],
   "source": [
    "b = bin(a)"
   ]
  },
  {
   "cell_type": "code",
   "execution_count": 9,
   "metadata": {},
   "outputs": [
    {
     "data": {
      "text/plain": [
       "'0b111011011000101110110110001011000100011010010011011101100'"
      ]
     },
     "execution_count": 9,
     "metadata": {},
     "output_type": "execute_result"
    }
   ],
   "source": [
    "b"
   ]
  },
  {
   "cell_type": "code",
   "execution_count": 10,
   "metadata": {},
   "outputs": [],
   "source": [
    "a='C0F3CFCFF30F0C0F33F3CFCF0C3C0000000000000000000000000000000000000000000000000000000000000000000000000000000000000000000000000000000000000000000000000000000000000000000000000000000000000000000000000000000000000000000000000000000000000000000000000000000000000FC01C01F8E3803F1C7FF81C0FC01C7E3FE3F03F038'"
   ]
  },
  {
   "cell_type": "code",
   "execution_count": 11,
   "metadata": {},
   "outputs": [
    {
     "data": {
      "text/plain": [
       "['C',\n",
       " 'F3CFCFF3',\n",
       " 'F',\n",
       " 'C',\n",
       " 'F33F3CFCF',\n",
       " 'C3C',\n",
       " '',\n",
       " '',\n",
       " '',\n",
       " '',\n",
       " '',\n",
       " '',\n",
       " '',\n",
       " '',\n",
       " '',\n",
       " '',\n",
       " '',\n",
       " '',\n",
       " '',\n",
       " '',\n",
       " '',\n",
       " '',\n",
       " '',\n",
       " '',\n",
       " '',\n",
       " '',\n",
       " '',\n",
       " '',\n",
       " '',\n",
       " '',\n",
       " '',\n",
       " '',\n",
       " '',\n",
       " '',\n",
       " '',\n",
       " '',\n",
       " '',\n",
       " '',\n",
       " '',\n",
       " '',\n",
       " '',\n",
       " '',\n",
       " '',\n",
       " '',\n",
       " '',\n",
       " '',\n",
       " '',\n",
       " '',\n",
       " '',\n",
       " '',\n",
       " '',\n",
       " '',\n",
       " '',\n",
       " '',\n",
       " '',\n",
       " '',\n",
       " '',\n",
       " '',\n",
       " '',\n",
       " '',\n",
       " '',\n",
       " '',\n",
       " '',\n",
       " '',\n",
       " '',\n",
       " '',\n",
       " '',\n",
       " '',\n",
       " '',\n",
       " '',\n",
       " '',\n",
       " '',\n",
       " '',\n",
       " '',\n",
       " '',\n",
       " '',\n",
       " '',\n",
       " '',\n",
       " '',\n",
       " '',\n",
       " '',\n",
       " '',\n",
       " '',\n",
       " '',\n",
       " '',\n",
       " '',\n",
       " '',\n",
       " '',\n",
       " '',\n",
       " '',\n",
       " '',\n",
       " '',\n",
       " '',\n",
       " '',\n",
       " '',\n",
       " '',\n",
       " '',\n",
       " '',\n",
       " '',\n",
       " '',\n",
       " '',\n",
       " '',\n",
       " '',\n",
       " '',\n",
       " '',\n",
       " '',\n",
       " '',\n",
       " '',\n",
       " '',\n",
       " '',\n",
       " '',\n",
       " '',\n",
       " '',\n",
       " '',\n",
       " '',\n",
       " '',\n",
       " '',\n",
       " '',\n",
       " '',\n",
       " '',\n",
       " '',\n",
       " '',\n",
       " '',\n",
       " '',\n",
       " '',\n",
       " '',\n",
       " '',\n",
       " '',\n",
       " '',\n",
       " '',\n",
       " '',\n",
       " '',\n",
       " '',\n",
       " '',\n",
       " '',\n",
       " '',\n",
       " '',\n",
       " '',\n",
       " '',\n",
       " '',\n",
       " '',\n",
       " '',\n",
       " '',\n",
       " '',\n",
       " '',\n",
       " '',\n",
       " '',\n",
       " '',\n",
       " '',\n",
       " '',\n",
       " '',\n",
       " '',\n",
       " '',\n",
       " '',\n",
       " '',\n",
       " '',\n",
       " '',\n",
       " '',\n",
       " '',\n",
       " '',\n",
       " '',\n",
       " '',\n",
       " '',\n",
       " '',\n",
       " '',\n",
       " '',\n",
       " '',\n",
       " '',\n",
       " '',\n",
       " '',\n",
       " '',\n",
       " '',\n",
       " '',\n",
       " '',\n",
       " '',\n",
       " '',\n",
       " '',\n",
       " '',\n",
       " '',\n",
       " '',\n",
       " '',\n",
       " '',\n",
       " '',\n",
       " '',\n",
       " '',\n",
       " '',\n",
       " '',\n",
       " '',\n",
       " '',\n",
       " '',\n",
       " '',\n",
       " '',\n",
       " '',\n",
       " '',\n",
       " '',\n",
       " '',\n",
       " '',\n",
       " '',\n",
       " '',\n",
       " '',\n",
       " '',\n",
       " '',\n",
       " '',\n",
       " '',\n",
       " '',\n",
       " '',\n",
       " '',\n",
       " '',\n",
       " '',\n",
       " '',\n",
       " '',\n",
       " '',\n",
       " '',\n",
       " '',\n",
       " '',\n",
       " '',\n",
       " '',\n",
       " '',\n",
       " '',\n",
       " '',\n",
       " '',\n",
       " '',\n",
       " '',\n",
       " '',\n",
       " '',\n",
       " '',\n",
       " '',\n",
       " '',\n",
       " '',\n",
       " '',\n",
       " '',\n",
       " '',\n",
       " '',\n",
       " '',\n",
       " 'FC',\n",
       " '1C',\n",
       " '1F8E38',\n",
       " '3F1C7FF81C',\n",
       " 'FC',\n",
       " '1C7E3FE3F',\n",
       " '3F',\n",
       " '38']"
      ]
     },
     "execution_count": 11,
     "metadata": {},
     "output_type": "execute_result"
    }
   ],
   "source": [
    "i = 0\n",
    "while i < len(a):\n",
    "    \n",
    "    if a[i] != '0':\n",
    "        "
   ]
  },
  {
   "cell_type": "code",
   "execution_count": 20,
   "metadata": {},
   "outputs": [],
   "source": [
    "def sum_N(N):\n",
    "    result =(N*(N+1))/2\n",
    "    return int(result)\n",
    "\n"
   ]
  },
  {
   "cell_type": "code",
   "execution_count": 21,
   "metadata": {},
   "outputs": [
    {
     "data": {
      "text/plain": [
       "55"
      ]
     },
     "execution_count": 21,
     "metadata": {},
     "output_type": "execute_result"
    }
   ],
   "source": [
    "sum_N(10)"
   ]
  },
  {
   "cell_type": "code",
   "execution_count": 14,
   "metadata": {},
   "outputs": [],
   "source": [
    "x = 4300\n",
    "y = (2*x)**0.5"
   ]
  },
  {
   "cell_type": "code",
   "execution_count": 15,
   "metadata": {},
   "outputs": [
    {
     "data": {
      "text/plain": [
       "92.73618495495704"
      ]
     },
     "execution_count": 15,
     "metadata": {},
     "output_type": "execute_result"
    }
   ],
   "source": [
    "y"
   ]
  },
  {
   "cell_type": "code",
   "execution_count": 16,
   "metadata": {},
   "outputs": [
    {
     "data": {
      "text/plain": [
       "4278"
      ]
     },
     "execution_count": 16,
     "metadata": {},
     "output_type": "execute_result"
    }
   ],
   "source": [
    "sum_N(92)"
   ]
  },
  {
   "cell_type": "code",
   "execution_count": 17,
   "metadata": {},
   "outputs": [
    {
     "data": {
      "text/plain": [
       "4465"
      ]
     },
     "execution_count": 17,
     "metadata": {},
     "output_type": "execute_result"
    }
   ],
   "source": [
    "sum_N(94)"
   ]
  },
  {
   "cell_type": "code",
   "execution_count": 228,
   "metadata": {},
   "outputs": [],
   "source": [
    "def pyra_position(N):\n",
    "    N = N-1\n",
    "    temp = int((2*N)**0.5)\n",
    "    if sum_N(temp-1)<= N < sum_N(temp):\n",
    "        return temp-1, N-sum_N(temp-1)\n",
    "    else:\n",
    "        return temp, N-sum_N(temp)\n",
    "    "
   ]
  },
  {
   "cell_type": "code",
   "execution_count": 240,
   "metadata": {},
   "outputs": [],
   "source": [
    "x1, y1 = pyra_position(10)\n",
    "x2, y2 = pyra_position(28)"
   ]
  },
  {
   "cell_type": "code",
   "execution_count": 241,
   "metadata": {},
   "outputs": [
    {
     "name": "stdout",
     "output_type": "stream",
     "text": [
      "3 3\n",
      "6 6\n"
     ]
    }
   ],
   "source": [
    "print(x1,y1)\n",
    "print(x2,y2)"
   ]
  },
  {
   "cell_type": "code",
   "execution_count": 242,
   "metadata": {},
   "outputs": [
    {
     "name": "stdout",
     "output_type": "stream",
     "text": [
      "3 3\n"
     ]
    }
   ],
   "source": [
    "print(abs(x1-x2),abs(y1-y2))"
   ]
  },
  {
   "cell_type": "code",
   "execution_count": 243,
   "metadata": {},
   "outputs": [],
   "source": [
    "def dist(N1, N2):\n",
    "    if N1> N2:\n",
    "        N1,N2 = N2,N1\n",
    "        \n",
    "    x1, y1 = pyra_position(N1)\n",
    "    x2, y2 = pyra_position(N2)\n",
    "    temp_y = y2\n",
    "    temp_x = x2\n",
    "\n",
    "    i = 0\n",
    "    while temp_y > y1 and temp_x > x1:\n",
    "        i += 1\n",
    "        temp_x -= 1\n",
    "        temp_y -= 1\n",
    "    result = abs(x1 - temp_x)+abs(y1-temp_y) + i\n",
    "    return result"
   ]
  },
  {
   "cell_type": "code",
   "execution_count": 244,
   "metadata": {},
   "outputs": [
    {
     "data": {
      "text/plain": [
       "5"
      ]
     },
     "execution_count": 244,
     "metadata": {},
     "output_type": "execute_result"
    }
   ],
   "source": [
    "dist(5,22)"
   ]
  },
  {
   "cell_type": "code",
   "execution_count": 246,
   "metadata": {},
   "outputs": [
    {
     "data": {
      "text/plain": [
       "31"
      ]
     },
     "execution_count": 246,
     "metadata": {},
     "output_type": "execute_result"
    }
   ],
   "source": [
    "dist(1000,100)"
   ]
  },
  {
   "cell_type": "code",
   "execution_count": null,
   "metadata": {},
   "outputs": [],
   "source": []
  }
 ],
 "metadata": {
  "kernelspec": {
   "display_name": "Python 3.6.10 64-bit ('kaggle': conda)",
   "language": "python",
   "name": "python361064bitkaggleconda57e1abfb522545908607cfd4d383a54b"
  },
  "language_info": {
   "codemirror_mode": {
    "name": "ipython",
    "version": 3
   },
   "file_extension": ".py",
   "mimetype": "text/x-python",
   "name": "python",
   "nbconvert_exporter": "python",
   "pygments_lexer": "ipython3",
   "version": "3.6.10"
  }
 },
 "nbformat": 4,
 "nbformat_minor": 4
}
