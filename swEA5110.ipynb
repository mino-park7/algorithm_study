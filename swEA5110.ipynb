{
 "cells": [
  {
   "cell_type": "code",
   "execution_count": 74,
   "metadata": {},
   "outputs": [],
   "source": [
    "N, M = 4, 4\n",
    "result_list=[]\n",
    "num_lists=[[2,3,4,5],[4,8,7,6],[9,10,15,16],[1,2,6,5]]\n",
    "test_case=1"
   ]
  },
  {
   "cell_type": "code",
   "execution_count": 75,
   "metadata": {},
   "outputs": [
    {
     "name": "stdout",
     "output_type": "stream",
     "text": [
      "[]\n",
      "[2, 3, 4, 5]\n",
      "[2, 3, 4, 4, 8, 7, 6, 5]\n",
      "[2, 3, 4, 4, 8, 7, 6, 5, 9, 10, 15, 16]\n",
      "#1 16 15 10 9 5 6 7 8 4 4\n"
     ]
    }
   ],
   "source": [
    "for i in range(M):\n",
    "    #num_list=list(map(int, input().split()))\n",
    "    num_list=num_lists[i][:]\n",
    "    print(result_list)\n",
    "    if len(result_list)==0:\n",
    "        result_list = result_list + num_list\n",
    "       \n",
    "    else:\n",
    "        for j in range(len(result_list)):\n",
    "            if num_list[0] < result_list[j]:\n",
    "                #swp= result_list[:j] + num_list + result_list[j:]\n",
    "                #result_list=swp\n",
    "                result_list[j:j]\n",
    "                break\n",
    "            elif j == len(result_list)-1:\n",
    "                result_list = result_list + num_list\n",
    "\n",
    "print(\"#%i \"%test_case + ' '.join(map(str,result_list[-1:-11:-1])))\n"
   ]
  },
  {
   "cell_type": "code",
   "execution_count": 51,
   "metadata": {},
   "outputs": [
    {
     "data": {
      "text/plain": [
       "[3, 4]"
      ]
     },
     "execution_count": 51,
     "metadata": {},
     "output_type": "execute_result"
    }
   ],
   "source": [
    "a=[1,2,3,4,5]\n",
    "a[2:-1]"
   ]
  },
  {
   "cell_type": "code",
   "execution_count": 20,
   "metadata": {},
   "outputs": [
    {
     "data": {
      "text/plain": [
       "0"
      ]
     },
     "execution_count": 20,
     "metadata": {},
     "output_type": "execute_result"
    }
   ],
   "source": [
    "len(b)"
   ]
  },
  {
   "cell_type": "code",
   "execution_count": null,
   "metadata": {},
   "outputs": [],
   "source": []
  }
 ],
 "metadata": {
  "kernelspec": {
   "display_name": "Python 3.6.10 64-bit ('kaggle': conda)",
   "language": "python",
   "name": "python361064bitkaggleconda57e1abfb522545908607cfd4d383a54b"
  },
  "language_info": {
   "codemirror_mode": {
    "name": "ipython",
    "version": 3
   },
   "file_extension": ".py",
   "mimetype": "text/x-python",
   "name": "python",
   "nbconvert_exporter": "python",
   "pygments_lexer": "ipython3",
   "version": "3.6.10"
  }
 },
 "nbformat": 4,
 "nbformat_minor": 4
}
