{
 "cells": [
  {
   "cell_type": "code",
   "execution_count": 46,
   "metadata": {},
   "outputs": [],
   "source": [
    "N, M, K = 5, 3, 5\n",
    "num_list=[958, 386, 329, 169, 778]"
   ]
  },
  {
   "cell_type": "code",
   "execution_count": 47,
   "metadata": {},
   "outputs": [
    {
     "name": "stdout",
     "output_type": "stream",
     "text": [
      "[958, 386, 329, 169, 778]\n",
      "[958, 386, 329, 498, 169, 778]\n",
      "[958, 386, 329, 498, 169, 778, 1736]\n",
      "[958, 386, 715, 329, 498, 169, 778, 1736]\n",
      "[958, 386, 715, 329, 498, 667, 169, 778, 1736]\n",
      "[958, 386, 715, 329, 498, 667, 169, 778, 2514, 1736]\n"
     ]
    }
   ],
   "source": [
    "#index 0부터 시작\n",
    "index=0\n",
    "# K회 반복\n",
    "for i in range(K):\n",
    "    \n",
    "    print(num_list)\n",
    "    index = (index+M) % len(num_list)\n",
    "    # 양쪽 칸 숫자 더해서 index에 삽입\n",
    "    if index == 0:\n",
    "        num_list.append(num_list[0]+num_list[-1])\n",
    "        index+=-1\n",
    "    else:\n",
    "        sum_num=num_list[index-1]+num_list[index]\n",
    "        num_list.insert(index,sum_num)\n",
    "\n",
    "print(num_list)\n",
    "    "
   ]
  },
  {
   "cell_type": "code",
   "execution_count": 48,
   "metadata": {},
   "outputs": [],
   "source": [
    "man_list = ['I', '2','7']"
   ]
  },
  {
   "cell_type": "code",
   "execution_count": 50,
   "metadata": {},
   "outputs": [
    {
     "data": {
      "text/plain": [
       "[2, 7]"
      ]
     },
     "execution_count": 50,
     "metadata": {},
     "output_type": "execute_result"
    }
   ],
   "source": [
    "list(map(int, man_list[1:]))"
   ]
  },
  {
   "cell_type": "code",
   "execution_count": 53,
   "metadata": {},
   "outputs": [],
   "source": [
    "a = [i for i in range(10) if i%2 ==0]"
   ]
  },
  {
   "cell_type": "code",
   "execution_count": 54,
   "metadata": {},
   "outputs": [
    {
     "data": {
      "text/plain": [
       "[0, 2, 4, 6, 8]"
      ]
     },
     "execution_count": 54,
     "metadata": {},
     "output_type": "execute_result"
    }
   ],
   "source": [
    "a"
   ]
  },
  {
   "cell_type": "code",
   "execution_count": null,
   "metadata": {},
   "outputs": [],
   "source": []
  }
 ],
 "metadata": {
  "kernelspec": {
   "display_name": "Python 3.6.10 64-bit ('kaggle': conda)",
   "language": "python",
   "name": "python361064bitkaggleconda57e1abfb522545908607cfd4d383a54b"
  },
  "language_info": {
   "codemirror_mode": {
    "name": "ipython",
    "version": 3
   },
   "file_extension": ".py",
   "mimetype": "text/x-python",
   "name": "python",
   "nbconvert_exporter": "python",
   "pygments_lexer": "ipython3",
   "version": "3.6.10"
  }
 },
 "nbformat": 4,
 "nbformat_minor": 4
}
